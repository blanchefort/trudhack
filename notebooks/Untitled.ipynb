{
 "cells": [
  {
   "cell_type": "markdown",
   "metadata": {},
   "source": [
    "# Пример использования АПИ"
   ]
  },
  {
   "cell_type": "code",
   "execution_count": 1,
   "metadata": {},
   "outputs": [],
   "source": [
    "import requests"
   ]
  },
  {
   "cell_type": "code",
   "execution_count": 2,
   "metadata": {},
   "outputs": [],
   "source": [
    "data = {\n",
    "    'names' : [\n",
    "        'Менеджер по оптовым продажам',\n",
    "        'Водитель самосвала',\n",
    "        'Электрик',\n",
    "        ],\n",
    "    'experience' : [\n",
    "        'noExperience',\n",
    "        'between1And3',\n",
    "        'between1And3',\n",
    "        ],\n",
    "    'schedule' : [\n",
    "        'fullDay',\n",
    "        'fullDay',\n",
    "        'shift',\n",
    "        ],\n",
    "    'employment' : [\n",
    "        'full',\n",
    "        'full',\n",
    "        'full',\n",
    "        ],\n",
    "    'city' : [\n",
    "        'Калининград',\n",
    "        'Санкт-Петербург',\n",
    "        'Москва',\n",
    "        ],\n",
    "}"
   ]
  },
  {
   "cell_type": "code",
   "execution_count": 21,
   "metadata": {},
   "outputs": [],
   "source": [
    "result = requests.get('http://127.0.0.1:5000/predict', json=data)"
   ]
  },
  {
   "cell_type": "code",
   "execution_count": 22,
   "metadata": {},
   "outputs": [
    {
     "data": {
      "text/plain": [
       "'{\"result\":[[0,1,2]]}'"
      ]
     },
     "execution_count": 22,
     "metadata": {},
     "output_type": "execute_result"
    }
   ],
   "source": [
    "result.text"
   ]
  },
  {
   "cell_type": "code",
   "execution_count": null,
   "metadata": {},
   "outputs": [],
   "source": []
  }
 ],
 "metadata": {
  "kernelspec": {
   "display_name": "Python 3",
   "language": "python",
   "name": "python3"
  },
  "language_info": {
   "codemirror_mode": {
    "name": "ipython",
    "version": 3
   },
   "file_extension": ".py",
   "mimetype": "text/x-python",
   "name": "python",
   "nbconvert_exporter": "python",
   "pygments_lexer": "ipython3",
   "version": "3.7.6"
  }
 },
 "nbformat": 4,
 "nbformat_minor": 4
}
