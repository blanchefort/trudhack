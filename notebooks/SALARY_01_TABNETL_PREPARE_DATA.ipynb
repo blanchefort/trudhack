{
  "nbformat": 4,
  "nbformat_minor": 0,
  "metadata": {
    "colab": {
      "name": "SALARY_01_TABNETL_PREPARE_DATA",
      "provenance": [],
      "collapsed_sections": []
    },
    "kernelspec": {
      "name": "python3",
      "display_name": "Python 3"
    }
  },
  "cells": [
    {
      "cell_type": "markdown",
      "metadata": {
        "id": "hbUoifIyW1xO",
        "colab_type": "text"
      },
      "source": [
        "# Подготовка нашего датасета\n",
        "Данные были скачаны с использованием API hh.ru\n",
        "\n",
        "В условиях пользования серисом и данными hh.ru говорится:\n",
        "\n",
        "_1.5. Конечными пользователями Приложения могут быть юридические и физические лица, являющиеся как работодателями или  организациями, оказывающими услуги по поиску и подбору персонала и/или по поиску работы и трудоустройству (кадровые агентства), так и соискателями. В случае, если конечными пользователями Приложения являются организации и физические лица, являющиеся работодателями или кадровыми агентствами, то указанные лица вправе использовать Сервис только для целей привлечения потенциальных работников и их последующего трудоустройства непосредственно в такие юридические лица (у таких физических лиц) или у клиентов таких кадровых агентств._\n",
        "\n",
        "То есть мы вполне можем использовать эти данные в работе.\n",
        "\n",
        "Данные скачаны для того, чтобы мы имели возможность обучить модель на большом объёме данных, добившись более точного результата.\n",
        "\n",
        "К сожалению, времени в рамках хакатона не достаточно, чтобы детально исследовать данные и сделать выборку более сбалансированной. После прохождения во второй этап планируется посвятить время глубокому изучению данных и создать оптимальную для обучения качественной модели выборку."
      ]
    },
    {
      "cell_type": "markdown",
      "metadata": {
        "id": "p-GxjuPQXAV3",
        "colab_type": "text"
      },
      "source": [
        "# Установка и загрузка библиотек"
      ]
    },
    {
      "cell_type": "code",
      "metadata": {
        "id": "T6S4ituIqfXp",
        "colab_type": "code",
        "colab": {}
      },
      "source": [
        "!pip install pytorch-tabnet transformers"
      ],
      "execution_count": null,
      "outputs": []
    },
    {
      "cell_type": "code",
      "metadata": {
        "id": "GkwuN3JXqyt9",
        "colab_type": "code",
        "colab": {}
      },
      "source": [
        "import pandas as pd\n",
        "import shutil\n",
        "import os\n",
        "import numpy as np\n",
        "from transformers import BertTokenizer\n",
        "from transformers import BertModel\n",
        "import torch\n",
        "import random\n",
        "import pickle\n",
        "\n",
        "from sklearn.model_selection import train_test_split\n",
        "from sklearn import preprocessing\n",
        "\n",
        "import matplotlib.pyplot as plt\n",
        "import seaborn as sns"
      ],
      "execution_count": null,
      "outputs": []
    },
    {
      "cell_type": "code",
      "metadata": {
        "id": "p_eN5-YsXavH",
        "colab_type": "code",
        "colab": {
          "base_uri": "https://localhost:8080/",
          "height": 34
        },
        "outputId": "9c2801b2-d114-41df-e1ca-c5579bfb7634"
      },
      "source": [
        "plt.figure(figsize=(12, 6), dpi=100)\n",
        "sns.set(rc={'figure.figsize':(12, 6), 'figure.dpi':100})\n",
        "plt.style.use('bmh')\n",
        "\n",
        "device = 'cuda' if torch.cuda.is_available() else 'cpu'\n",
        "device = torch.device(device)"
      ],
      "execution_count": null,
      "outputs": [
        {
          "output_type": "display_data",
          "data": {
            "text/plain": [
              "<Figure size 1200x600 with 0 Axes>"
            ]
          },
          "metadata": {
            "tags": []
          }
        }
      ]
    },
    {
      "cell_type": "code",
      "metadata": {
        "id": "-HdCPfLUXoyZ",
        "colab_type": "code",
        "colab": {}
      },
      "source": [
        "tokenizer = BertTokenizer.from_pretrained('DeepPavlov/rubert-base-cased')\n",
        "bert = BertModel.from_pretrained('DeepPavlov/rubert-base-cased')"
      ],
      "execution_count": null,
      "outputs": []
    },
    {
      "cell_type": "markdown",
      "metadata": {
        "id": "qa2349uLXqUt",
        "colab_type": "text"
      },
      "source": [
        "# Датафрейм"
      ]
    },
    {
      "cell_type": "markdown",
      "metadata": {
        "id": "AisT6cVcXHME",
        "colab_type": "text"
      },
      "source": [
        "Перекинем скачанные данные для работы с ними"
      ]
    },
    {
      "cell_type": "code",
      "metadata": {
        "id": "wHpTFEGUqxAF",
        "colab_type": "code",
        "colab": {}
      },
      "source": [
        "!unzip '/content/drive/My Drive/colab_data/hh_salary.zip' -d '/content/raw_data'"
      ],
      "execution_count": null,
      "outputs": []
    },
    {
      "cell_type": "markdown",
      "metadata": {
        "id": "G2JWbDonX0Z5",
        "colab_type": "text"
      },
      "source": [
        "Создадим из скачанных данных датафрейм для удобства работы:"
      ]
    },
    {
      "cell_type": "code",
      "metadata": {
        "id": "aTl-LXJrrDKC",
        "colab_type": "code",
        "colab": {
          "base_uri": "https://localhost:8080/",
          "height": 34
        },
        "outputId": "467dcb56-13fa-4f1b-f11a-b1141d1e23f2"
      },
      "source": [
        "path = 'raw_data'\n",
        "raw_files = [os.path.join(path, csv_file) for csv_file in os.listdir(path) if 'csv' in csv_file]\n",
        "len(raw_files)"
      ],
      "execution_count": null,
      "outputs": [
        {
          "output_type": "execute_result",
          "data": {
            "text/plain": [
              "2878"
            ]
          },
          "metadata": {
            "tags": []
          },
          "execution_count": 19
        }
      ]
    },
    {
      "cell_type": "code",
      "metadata": {
        "id": "jLtv4XVvq1Vt",
        "colab_type": "code",
        "colab": {
          "base_uri": "https://localhost:8080/",
          "height": 513
        },
        "outputId": "afaa85c6-5981-4680-f664-302af01498dc"
      },
      "source": [
        "df = pd.concat([pd.read_csv(csv_file) for csv_file in raw_files], axis=0)\n",
        "df.head(5)"
      ],
      "execution_count": null,
      "outputs": [
        {
          "output_type": "execute_result",
          "data": {
            "text/html": [
              "<div>\n",
              "<style scoped>\n",
              "    .dataframe tbody tr th:only-of-type {\n",
              "        vertical-align: middle;\n",
              "    }\n",
              "\n",
              "    .dataframe tbody tr th {\n",
              "        vertical-align: top;\n",
              "    }\n",
              "\n",
              "    .dataframe thead th {\n",
              "        text-align: right;\n",
              "    }\n",
              "</style>\n",
              "<table border=\"1\" class=\"dataframe\">\n",
              "  <thead>\n",
              "    <tr style=\"text-align: right;\">\n",
              "      <th></th>\n",
              "      <th>name</th>\n",
              "      <th>area_id</th>\n",
              "      <th>area_name</th>\n",
              "      <th>salary_from</th>\n",
              "      <th>salary_to</th>\n",
              "      <th>experience</th>\n",
              "      <th>schedule</th>\n",
              "      <th>employment</th>\n",
              "      <th>description</th>\n",
              "      <th>employer</th>\n",
              "    </tr>\n",
              "  </thead>\n",
              "  <tbody>\n",
              "    <tr>\n",
              "      <th>0</th>\n",
              "      <td>Инженер-геодезист</td>\n",
              "      <td>95</td>\n",
              "      <td>Тюмень</td>\n",
              "      <td>25000.0</td>\n",
              "      <td>NaN</td>\n",
              "      <td>noExperience</td>\n",
              "      <td>fullDay</td>\n",
              "      <td>full</td>\n",
              "      <td>Обязанности: выполнение инженерно-геодезически...</td>\n",
              "      <td>2671264</td>\n",
              "    </tr>\n",
              "    <tr>\n",
              "      <th>1</th>\n",
              "      <td>Ведущий инженер-программист</td>\n",
              "      <td>2</td>\n",
              "      <td>Санкт-Петербург</td>\n",
              "      <td>65000.0</td>\n",
              "      <td>NaN</td>\n",
              "      <td>between1And3</td>\n",
              "      <td>fullDay</td>\n",
              "      <td>full</td>\n",
              "      <td>Обязанности: Разработка управляющих программ в...</td>\n",
              "      <td>46539</td>\n",
              "    </tr>\n",
              "    <tr>\n",
              "      <th>2</th>\n",
              "      <td>Менеджер по работе с клиентами (Дмитров, ул. М...</td>\n",
              "      <td>2023</td>\n",
              "      <td>Дмитров</td>\n",
              "      <td>25000.0</td>\n",
              "      <td>NaN</td>\n",
              "      <td>noExperience</td>\n",
              "      <td>shift</td>\n",
              "      <td>full</td>\n",
              "      <td>Компания «ВАЙЛДБЕРРИЗ» – это один из крупнейши...</td>\n",
              "      <td>87021</td>\n",
              "    </tr>\n",
              "    <tr>\n",
              "      <th>3</th>\n",
              "      <td>Автоэлектрик-диагност</td>\n",
              "      <td>53</td>\n",
              "      <td>Краснодар</td>\n",
              "      <td>30000.0</td>\n",
              "      <td>NaN</td>\n",
              "      <td>between1And3</td>\n",
              "      <td>shift</td>\n",
              "      <td>full</td>\n",
              "      <td>Обязанности: - проведение компьютерной диагнос...</td>\n",
              "      <td>2681079</td>\n",
              "    </tr>\n",
              "    <tr>\n",
              "      <th>4</th>\n",
              "      <td>Продавец-консультант в салон связи Связной</td>\n",
              "      <td>1849</td>\n",
              "      <td>Калач</td>\n",
              "      <td>31000.0</td>\n",
              "      <td>NaN</td>\n",
              "      <td>noExperience</td>\n",
              "      <td>fullDay</td>\n",
              "      <td>full</td>\n",
              "      <td>Ты заряжен энергией и хочешь превратить ее в д...</td>\n",
              "      <td>533</td>\n",
              "    </tr>\n",
              "  </tbody>\n",
              "</table>\n",
              "</div>"
            ],
            "text/plain": [
              "                                                name  ...  employer\n",
              "0                                  Инженер-геодезист  ...   2671264\n",
              "1                        Ведущий инженер-программист  ...     46539\n",
              "2  Менеджер по работе с клиентами (Дмитров, ул. М...  ...     87021\n",
              "3                              Автоэлектрик-диагност  ...   2681079\n",
              "4         Продавец-консультант в салон связи Связной  ...       533\n",
              "\n",
              "[5 rows x 10 columns]"
            ]
          },
          "metadata": {
            "tags": []
          },
          "execution_count": 20
        }
      ]
    },
    {
      "cell_type": "code",
      "metadata": {
        "id": "C1dV6SGHRZx8",
        "colab_type": "code",
        "colab": {
          "base_uri": "https://localhost:8080/",
          "height": 306
        },
        "outputId": "e17d1662-ca45-4529-c914-9535799d1444"
      },
      "source": [
        "df.info()"
      ],
      "execution_count": null,
      "outputs": [
        {
          "output_type": "stream",
          "text": [
            "<class 'pandas.core.frame.DataFrame'>\n",
            "Int64Index: 1976131 entries, 0 to 985\n",
            "Data columns (total 10 columns):\n",
            " #   Column       Dtype  \n",
            "---  ------       -----  \n",
            " 0   name         object \n",
            " 1   area_id      int64  \n",
            " 2   area_name    object \n",
            " 3   salary_from  float64\n",
            " 4   salary_to    float64\n",
            " 5   experience   object \n",
            " 6   schedule     object \n",
            " 7   employment   object \n",
            " 8   description  object \n",
            " 9   employer     int64  \n",
            "dtypes: float64(2), int64(2), object(6)\n",
            "memory usage: 165.8+ MB\n"
          ],
          "name": "stdout"
        }
      ]
    },
    {
      "cell_type": "markdown",
      "metadata": {
        "id": "ObIVr7JlYCv1",
        "colab_type": "text"
      },
      "source": [
        "В наших данных очень скошенная выборка по городам. Получается очень длинный хвост. Поэтому будет достаточно трудно сделать точный предикт зарплат для всех городов России. Вот пример топ-20 городов нашей выборки:"
      ]
    },
    {
      "cell_type": "code",
      "metadata": {
        "id": "e0BTVV_D72gm",
        "colab_type": "code",
        "colab": {
          "base_uri": "https://localhost:8080/",
          "height": 658
        },
        "outputId": "30901239-282b-4a85-84c9-bbf531cfc896"
      },
      "source": [
        "df.area_name.value_counts()[0:20].plot.bar()"
      ],
      "execution_count": null,
      "outputs": [
        {
          "output_type": "execute_result",
          "data": {
            "text/plain": [
              "<matplotlib.axes._subplots.AxesSubplot at 0x7fbb35b40b70>"
            ]
          },
          "metadata": {
            "tags": []
          },
          "execution_count": 22
        },
        {
          "output_type": "display_data",
          "data": {
            "image/png": "[encoded data removed]",
            "text/plain": [
              "<Figure size 1200x600 with 1 Axes>"
            ]
          },
          "metadata": {
            "tags": []
          }
        }
      ]
    },
    {
      "cell_type": "markdown",
      "metadata": {
        "id": "FiM-Upx1YeY6",
        "colab_type": "text"
      },
      "source": [
        "В датасете содержатся различные населённые пункты, при этом имеются и города не из России. Поэтому ограничим нашу выборку лишь несколькими городами России."
      ]
    },
    {
      "cell_type": "code",
      "metadata": {
        "id": "xL9QPVZHq7fO",
        "colab_type": "code",
        "colab": {}
      },
      "source": [
        "cities = ['Санкт-Петербург', 'Москва', 'Екатеринбург', 'Новосибирск', 'Краснодар', 'Казань', 'Нижний Новгород', 'Уфа', 'Красноярск', 'Воронеж', 'Ростов-на-Дону', 'Самара', 'Челябинск', 'Пермь', 'Омск', 'Иркутск', 'Тюмень', 'Волгоград', 'Барнаул', 'Саратов', 'Ярославль', 'Ижевск', 'Тула', 'Томск', 'Сочи', 'Хабаровск', 'Тверь', 'Владивосток', 'Рязань', 'Кемерово', 'Набережные Челны', 'Оренбург', 'Тольятти', 'Белгород', 'Киров (Кировская область)', 'Владимир', 'Ульяновск', 'Липецк', 'Чебоксары', 'Калининград', 'Пенза', 'Новокузнецк', 'Иваново (Ивановская область)', 'Калуга', 'Ставрополь', 'Брянск', 'Сургут', 'Химки', 'Курск', 'Смоленск', 'Вологда', 'Симферополь', 'Подольск (Московская область)', 'Орел', 'Астрахань', 'Караганда', 'Кострома', 'Тамбов', 'Мытищи', 'Улан-Удэ', 'Брест', 'Архангельск', 'Одинцово', 'Мурманск', 'Магнитогорск', 'Зеленоград', 'Новороссийск', 'Люберцы', 'Балашиха', 'Череповец', 'Йошкар-Ола', 'Курган', 'Могилев', 'Гродно', 'Саранск', 'Красногорск', 'Чита', 'Севастополь', 'Домодедово', 'Благовещенск (Амурская область)', 'Псков', 'Нижневартовск', 'Великий Новгород', 'Петрозаводск', 'Волжский(Волгоградская область)', 'Стерлитамак', 'Нижний Тагил', 'Дзержинск (Нижегородская область)', 'Абакан', 'Пятигорск', 'Обнинск', 'Новый Уренгой', 'Салават', 'Королев', 'Таганрог', 'Старый Оскол', 'Энгельс', 'Ангарск', 'Бийск', 'Лобня', 'Южно-Сахалинск', 'Сыктывкар', 'Адлер', 'Пушкино (Московская область)', 'Видное', 'Щелково', 'Дмитров', 'Долгопрудный', 'Нижнекамск', 'Анапа', 'Раменское', 'Братск', 'Ногинск', 'Шахты', 'Петропавловск-Камчатский', 'Альметьевск', 'Солнечногорск', 'Новочеркасск', 'Серпухов', 'Нефтекамск', 'Новомосковск (Тульская область)', 'Миасс', 'Коломна', 'Чехов', 'Ханты-Мансийск', 'Якутск', 'Комсомольск-на-Амуре', 'Армавир', 'Волгодонск', 'Батайск', 'Жуковский', 'Истра', 'Сергиев Посад', 'Орск', 'Рыбинск', 'Реутов', 'Ковров', 'Тобольск', 'Наро-Фоминск', 'Геленджик', 'Клин', 'Электросталь', 'Махачкала', 'Ялта', 'Сызрань', 'Октябрьский (Республика Башкортостан)', 'Каменск-Уральский', 'Березники', 'Балаково', 'Колпино', 'Кстово', 'Всеволожск', 'Аксай (Ростовская область)', 'Магадан', 'Гатчина', 'Орехово-Зуево', 'Троицк (Московская область)', 'Златоуст', 'Елабуга', 'Первоуральск', 'Ачинск', 'Нефтеюганск', 'Муром', 'Пушкин', 'Северодвинск', 'Ноябрьск', 'Уссурийск', 'Ессентуки', 'Елец', 'Азов', 'Верхняя Пышма', 'Прокопьевск', 'Бердск', 'Березовский (Свердловская область)', 'Белово', 'Димитровград', 'Майкоп', 'Выборг', 'Норильск', 'Воскресенск', 'Петропавловск', 'Ухта', 'Находка', 'Ступино', 'Арзамас', 'Великие Луки', 'Котельники', 'Дубна', 'Новочебоксарск', 'Минеральные Воды', 'Туапсе', 'Кингисепп', 'Щербинка', 'Климовск (Московская область)', 'Зеленодольск (Республика Татарстан)', 'Глазов', 'Ленинск-Кузнецкий', 'Сарапул', 'Железногорск (Курская область)', 'Владикавказ', 'Горно-Алтайск', 'Фрязино', 'Воткинск', 'Новокуйбышевск', 'Каменск-Шахтинский', 'Бузулук', 'Невинномысск', 'Копейск', 'Новоалтайск', 'Нахабино', 'Павловский Посад', 'Усинск', 'Керчь', 'Борисоглебск', 'Соликамск', 'Звенигород', 'Егорьевск', 'Александров', 'Славянск-на-Кубани', 'Кисловодск', 'Ржев', 'Большой Камень', 'Камышин', 'Тихорецк', 'Можайск', 'Элиста', 'Темрюк', 'Вязьма', 'Когалым', 'Бугульма', 'Ейск', 'Жигулевск', 'Асбест', 'Нальчик', 'Черкесск', 'Биробиджан', 'Тихвин', 'Сестрорецк', 'Юрга', 'Волоколамск', 'Ростов (Ярославская область)', 'Балабаново', 'Сальск', 'Петергоф', 'Гусь-Хрустальный', 'Ломоносов', 'Евпатория', 'Волжск', 'Грязи', 'Краснознаменск (Московская область)', 'Салехард', 'Алушта', 'Нерюнгри', 'Тутаев', 'Усть-Илимск', 'Шадринск', 'Курчатов', 'Воркута', 'Новотроицк (Оренбургская область)', 'Гагарин', 'Минусинск', 'Кинешма', 'Благовещенск (Республика Башкортостан)', 'Ахтубинск', 'Краснокамск', 'Лесосибирск', 'Чапаевск', 'Озерск (Челябинская область)', 'Мирный (Республика Саха (Якутия))', 'Кронштадт', 'Киров (Калужская область)', 'Донецк (Ростовская область)', 'Березовский (Кемеровская область)', 'Тамань', 'Грозный', 'Строитель (Белгородская область)', 'Суздаль', 'Зеленогорск (Ленинградская обл)', 'Шлиссельбург', 'Быково (Московская область)', 'Амурск', 'Лазаревское', 'Котлас', 'Калач-на-Дону', 'Североморск', 'Зерноград', 'Отрадный (Самарская область)', 'Котовск (Тамбовская область)', 'Урюпинск', 'Заречный (Свердловская область)', 'Радужный (Ханты-Мансийский АО - Югра)', 'Заречный (Пензенская область)', 'Красноармейск (Московская область)', 'Черноголовка', 'Павловск (Ленинградская область)', 'Черногорск', 'Тында', 'Бодайбо', 'Ленинградская станица', 'Фролово', 'Рощино (Ленинградская область)', 'Лермонтов', 'Славгород (Алтайский край)', 'Николаевск-на-Амуре', 'Валдай', 'Саянск', 'Приморско-Ахтарск', 'Гурьевск (Кемеровская область)', 'Горки-10 (Московская область, Одинцовский район)', 'Дубна (Тульская область)', 'Гурьевск (Калининградская область)', 'Забайкальск', 'Запрудня (Московская область)', 'Каспийск', 'Александровск (Пермский край)', 'Славянка (Приморский край)', 'Павловск (Алтайский край)', 'Иннополис', 'Нарьян-Мар', 'Шексна', 'Печоры', 'Нижнеудинск', 'Дно', 'Краснослободск (Волгоградская область)', 'Советский (Ханты-Мансийский АО)', 'Советск (Калининградская область)', 'Красный Бор (Ленинградская область)', 'Любань (Ленинградская область)', 'Аннино (Ленинградская область)', 'Быков (Сахалинская область)', 'Птичник (Еврейская АО)']"
      ],
      "execution_count": null,
      "outputs": []
    },
    {
      "cell_type": "markdown",
      "metadata": {
        "id": "39np_2eVZCTj",
        "colab_type": "text"
      },
      "source": [
        "Выберем только те значения нашего датафрейма, которые относятся к выбранным нами городам.\n",
        "\n",
        "Также удалим пропуски и перемешаем данные для более гладкого процесса обучения модели.\n"
      ]
    },
    {
      "cell_type": "code",
      "metadata": {
        "id": "8eICGWZlP0vg",
        "colab_type": "code",
        "colab": {}
      },
      "source": [
        "pattern = '|'.join(cities)"
      ],
      "execution_count": null,
      "outputs": []
    },
    {
      "cell_type": "code",
      "metadata": {
        "id": "gwtPU39xSAIY",
        "colab_type": "code",
        "colab": {
          "base_uri": "https://localhost:8080/",
          "height": 292
        },
        "outputId": "68cc9797-4f88-477c-952b-e684173e5ba1"
      },
      "source": [
        "df = df[df.area_name.str.contains(pattern) == True]\n",
        "df = df[['name', 'area_name', 'salary_from', 'experience', 'schedule', 'employment']]\n",
        "df = df.dropna()\n",
        "df = df.sample(frac=1).reset_index(drop=True)\n",
        "df.head()"
      ],
      "execution_count": null,
      "outputs": [
        {
          "output_type": "stream",
          "text": [
            "/usr/local/lib/python3.6/dist-packages/pandas/core/strings.py:1954: UserWarning: This pattern has match groups. To actually get the groups, use str.extract.\n",
            "  return func(self, *args, **kwargs)\n"
          ],
          "name": "stderr"
        },
        {
          "output_type": "execute_result",
          "data": {
            "text/html": [
              "<div>\n",
              "<style scoped>\n",
              "    .dataframe tbody tr th:only-of-type {\n",
              "        vertical-align: middle;\n",
              "    }\n",
              "\n",
              "    .dataframe tbody tr th {\n",
              "        vertical-align: top;\n",
              "    }\n",
              "\n",
              "    .dataframe thead th {\n",
              "        text-align: right;\n",
              "    }\n",
              "</style>\n",
              "<table border=\"1\" class=\"dataframe\">\n",
              "  <thead>\n",
              "    <tr style=\"text-align: right;\">\n",
              "      <th></th>\n",
              "      <th>name</th>\n",
              "      <th>area_name</th>\n",
              "      <th>salary_from</th>\n",
              "      <th>experience</th>\n",
              "      <th>schedule</th>\n",
              "      <th>employment</th>\n",
              "    </tr>\n",
              "  </thead>\n",
              "  <tbody>\n",
              "    <tr>\n",
              "      <th>0</th>\n",
              "      <td>Администратор (Самара, Московское шоссе, 29)</td>\n",
              "      <td>Самара</td>\n",
              "      <td>25000.0</td>\n",
              "      <td>between1And3</td>\n",
              "      <td>fullDay</td>\n",
              "      <td>full</td>\n",
              "    </tr>\n",
              "    <tr>\n",
              "      <th>1</th>\n",
              "      <td>Продавец-кассир (Москва, ул Гришина, 9)</td>\n",
              "      <td>Москва</td>\n",
              "      <td>33500.0</td>\n",
              "      <td>noExperience</td>\n",
              "      <td>fullDay</td>\n",
              "      <td>full</td>\n",
              "    </tr>\n",
              "    <tr>\n",
              "      <th>2</th>\n",
              "      <td>Повар</td>\n",
              "      <td>Москва</td>\n",
              "      <td>29000.0</td>\n",
              "      <td>between1And3</td>\n",
              "      <td>shift</td>\n",
              "      <td>full</td>\n",
              "    </tr>\n",
              "    <tr>\n",
              "      <th>3</th>\n",
              "      <td>Специалист по документообороту</td>\n",
              "      <td>Нижний Новгород</td>\n",
              "      <td>30000.0</td>\n",
              "      <td>between1And3</td>\n",
              "      <td>fullDay</td>\n",
              "      <td>full</td>\n",
              "    </tr>\n",
              "    <tr>\n",
              "      <th>4</th>\n",
              "      <td>Оператор</td>\n",
              "      <td>Тамбов</td>\n",
              "      <td>20000.0</td>\n",
              "      <td>between1And3</td>\n",
              "      <td>shift</td>\n",
              "      <td>full</td>\n",
              "    </tr>\n",
              "  </tbody>\n",
              "</table>\n",
              "</div>"
            ],
            "text/plain": [
              "                                           name  ... employment\n",
              "0  Администратор (Самара, Московское шоссе, 29)  ...       full\n",
              "1       Продавец-кассир (Москва, ул Гришина, 9)  ...       full\n",
              "2                                         Повар  ...       full\n",
              "3                Специалист по документообороту  ...       full\n",
              "4                                      Оператор  ...       full\n",
              "\n",
              "[5 rows x 6 columns]"
            ]
          },
          "metadata": {
            "tags": []
          },
          "execution_count": 25
        }
      ]
    },
    {
      "cell_type": "markdown",
      "metadata": {
        "id": "zlSLTy4gZPxq",
        "colab_type": "text"
      },
      "source": [
        "В названиях профессий иногда встречается лишняя информация. Например, иногда в скобках указывают регион размещения вакансии. Нам же нужно оставить только важную для данного признака информацию, поэтому немного почистим признак `names`."
      ]
    },
    {
      "cell_type": "code",
      "metadata": {
        "id": "tiN-QxphSbE-",
        "colab_type": "code",
        "colab": {}
      },
      "source": [
        "df.name = df.name.str.replace(r'\\(.*?\\)', '')\n",
        "df.name = df.name.str.replace('/', '')\n",
        "df.name = df.name.str.replace(',', '')\n",
        "df.name = df.name.str.replace(' +', ' ')\n",
        "df.name = df.name.str.strip()"
      ],
      "execution_count": null,
      "outputs": []
    },
    {
      "cell_type": "markdown",
      "metadata": {
        "id": "wxgVIReAZkAe",
        "colab_type": "text"
      },
      "source": [
        "Как видим, данных в ходе обработки стало немного меньше, но теперь они более качественны."
      ]
    },
    {
      "cell_type": "code",
      "metadata": {
        "id": "wdaOgSDcTc1J",
        "colab_type": "code",
        "colab": {
          "base_uri": "https://localhost:8080/",
          "height": 238
        },
        "outputId": "7d4b3f8f-eb25-4ebf-9ba9-a9901db38c98"
      },
      "source": [
        "df.info()"
      ],
      "execution_count": null,
      "outputs": [
        {
          "output_type": "stream",
          "text": [
            "<class 'pandas.core.frame.DataFrame'>\n",
            "RangeIndex: 1373240 entries, 0 to 1373239\n",
            "Data columns (total 6 columns):\n",
            " #   Column       Non-Null Count    Dtype  \n",
            "---  ------       --------------    -----  \n",
            " 0   name         1373240 non-null  object \n",
            " 1   area_name    1373240 non-null  object \n",
            " 2   salary_from  1373240 non-null  float64\n",
            " 3   experience   1373240 non-null  object \n",
            " 4   schedule     1373240 non-null  object \n",
            " 5   employment   1373240 non-null  object \n",
            "dtypes: float64(1), object(5)\n",
            "memory usage: 62.9+ MB\n"
          ],
          "name": "stdout"
        }
      ]
    },
    {
      "cell_type": "markdown",
      "metadata": {
        "id": "h8YdtmY6ZtsL",
        "colab_type": "text"
      },
      "source": [
        "# Преобразование датафрейма в вектора\n",
        "\n",
        "Просто так, сырые данные мы не можем подавать нашей модели на обучение. Поэтому преобразуем каждый параметр в нужный вектор."
      ]
    },
    {
      "cell_type": "markdown",
      "metadata": {
        "id": "6xQ2K2HAaA_4",
        "colab_type": "text"
      },
      "source": [
        "Первым подвергнется преобразованию параметр `names` - название вакансии.\n",
        "\n",
        "существует множество способов векторизации текстовой информации. От самых простых, типа \"мешка слов\" и TF-IDF, до более сложных, типа word2vec и GloVe.\n",
        "\n",
        "Мы будем векторизовать названия вакансий с помощью предобученного на русских текстах Берта - **RuBert** от **DeepPavlov**. Это, конечно, более длительный и более ресурсоёмкий процесс, нежели, например, \"мешок слов\", но более эффективный. Вот некоторые его преимущества:\n",
        "\n",
        "* Избавляемся от проблемы _Out of Vocabulary_ на инференсе. Т.е. мы сможем обрабатывать даже те слова, которые модель не видела в ходе обучения.\n",
        "* Разрешаем проблему синонимов и омонимов. Так как Берт - модель языка, мы получаем не просто вектора слов, но вектора со смыслами слов, и наша модель, получая вектора от Берта, будет понимать, что, например, такие вакансии, как \"уборщик\" и \"уборщица\" следует объединять вместе.\n",
        "* Разрешаем проблему опечаток и неправильных написаний слов. (После победы и переходу к следующему этапу планируется провести эксперимент, взяв не RuBert, а Bert Base от Google. Как нам теперь видится, эта языковая модель должна лучше разрешать проблему опечаток и неправильного написания слов).\n",
        "\n",
        "Для получения смысла выходной последовательности часто берут первый или последний токен с выходного слоя Берта (пулинг). Мы же поступим иначе. Как советуют разработчики группы **HuggingFace**, лучше брать векторы всех токенов на выходе Берта и усреднять их. Поэтому мы, чтобы извлечь максимум информации из данного признака, берём у Берта вектор каждого токена и усредняем его.\n",
        "\n",
        "Чтобы ускорить процесс конвертации, лучше применять GPU.\n"
      ]
    },
    {
      "cell_type": "code",
      "metadata": {
        "id": "3G24Ze0tUpGT",
        "colab_type": "code",
        "colab": {}
      },
      "source": [
        "%%time\n",
        "\n",
        "bert.to(device)\n",
        "bert.eval();\n",
        "\n",
        "step = 10_000\n",
        "names_vectors = False\n",
        "\n",
        "for batch_i in range(0, len(df), step):\n",
        "    batch = df.name[batch_i:batch_i+step]\n",
        "    inputs = tokenizer(\n",
        "        batch.to_list(),\n",
        "        padding='max_length',\n",
        "        truncation=True,\n",
        "        max_length=20,\n",
        "        return_tensors='pt',\n",
        "        return_attention_mask=True,\n",
        "    )\n",
        "    inputs.to(device)\n",
        "    with torch.no_grad():\n",
        "        output = bert(**inputs)\n",
        "    total_sum = torch.zeros_like(output[0][:, 1, :])\n",
        "    for i in range(0, output[0].shape[1]):\n",
        "        total_sum += output[0][:, i, :]\n",
        "    total_sum = total_sum / output[0].shape[1]\n",
        "    # names_vectors.extend(total_sum.detach().cpu().numpy())\n",
        "    total_sum = total_sum.detach().cpu().numpy()\n",
        "    if names_vectors is False:\n",
        "        names_vectors = total_sum\n",
        "    else:\n",
        "        names_vectors = np.vstack((names_vectors, total_sum))\n",
        "    \n",
        "    if batch_i % 100_000 == 0:\n",
        "        print(batch_i)"
      ],
      "execution_count": null,
      "outputs": []
    },
    {
      "cell_type": "markdown",
      "metadata": {
        "id": "Af12pH5melQf",
        "colab_type": "text"
      },
      "source": [
        "Проверим, все ли признаки сконвертировались:"
      ]
    },
    {
      "cell_type": "code",
      "metadata": {
        "id": "-BLChYEmepNA",
        "colab_type": "code",
        "colab": {
          "base_uri": "https://localhost:8080/",
          "height": 34
        },
        "outputId": "b8eb8b71-abf4-4dd3-84b9-b92593827ddb"
      },
      "source": [
        "names_vectors.shape, df.shape"
      ],
      "execution_count": null,
      "outputs": [
        {
          "output_type": "execute_result",
          "data": {
            "text/plain": [
              "((1373240, 768), (1373240, 6))"
            ]
          },
          "metadata": {
            "tags": []
          },
          "execution_count": 16
        }
      ]
    },
    {
      "cell_type": "markdown",
      "metadata": {
        "id": "6IXVXWY8esrD",
        "colab_type": "text"
      },
      "source": [
        "Великолепно! Теперь сохраним наши вектора на диск, чтобы освободить память, и приступим к преобразованию других признаков."
      ]
    },
    {
      "cell_type": "code",
      "metadata": {
        "id": "XVCtmJGCe2gl",
        "colab_type": "code",
        "colab": {}
      },
      "source": [
        "np.save('/content/drive/My Drive/colab_data/salary_tabnetL_data/names.npy', names_vectors)"
      ],
      "execution_count": null,
      "outputs": []
    },
    {
      "cell_type": "markdown",
      "metadata": {
        "id": "CapaA4F4d0On",
        "colab_type": "text"
      },
      "source": [
        "# Признаки в индексы\n",
        "\n",
        "Теперь преобразуем другие признаки. Мы создадим из текстовых признаков их индексы. Эти индексы будем подавать модели, а она из них самостоятельно будет получать эмбеддинги - плотные вектора этих признаков.\n",
        "\n",
        "Эти преобразования намного быстрее и легче, их можно выполнять на CPU."
      ]
    },
    {
      "cell_type": "code",
      "metadata": {
        "id": "nvnIY_dHU2Lm",
        "colab_type": "code",
        "colab": {}
      },
      "source": [
        "experience = set()\n",
        "schedule = set()\n",
        "employment = set()\n",
        "city = set()\n",
        "\n",
        "experience.update(df.experience.unique().tolist())\n",
        "schedule.update(df.schedule.unique().tolist())\n",
        "employment.update(df.employment.unique().tolist())\n",
        "city.update(df.area_name.unique().tolist())"
      ],
      "execution_count": null,
      "outputs": []
    },
    {
      "cell_type": "code",
      "metadata": {
        "id": "lBLVOsWhgs2J",
        "colab_type": "code",
        "colab": {}
      },
      "source": [
        "experience2id = {name:id for id, name in enumerate(experience)}\n",
        "schedule2id = {name:id for id, name in enumerate(schedule)}\n",
        "employment2id = {name:id for id, name in enumerate(employment)}\n",
        "city2id = {name:id for id, name in enumerate(city)}"
      ],
      "execution_count": null,
      "outputs": []
    },
    {
      "cell_type": "markdown",
      "metadata": {
        "id": "xNbNdNMRg4no",
        "colab_type": "text"
      },
      "source": [
        "Пример индекса:"
      ]
    },
    {
      "cell_type": "code",
      "metadata": {
        "id": "80nFpHcSg1ss",
        "colab_type": "code",
        "colab": {
          "base_uri": "https://localhost:8080/",
          "height": 34
        },
        "outputId": "5c25901a-ae54-4187-ad7c-b369a0ef499e"
      },
      "source": [
        "experience2id"
      ],
      "execution_count": null,
      "outputs": [
        {
          "output_type": "execute_result",
          "data": {
            "text/plain": [
              "{'between1And3': 1, 'between3And6': 3, 'moreThan6': 2, 'noExperience': 0}"
            ]
          },
          "metadata": {
            "tags": []
          },
          "execution_count": 36
        }
      ]
    },
    {
      "cell_type": "markdown",
      "metadata": {
        "id": "Z2oiyU4UhDet",
        "colab_type": "text"
      },
      "source": [
        "Сохраним все индексы. Они нам понадобятся на инференсе модели."
      ]
    },
    {
      "cell_type": "code",
      "metadata": {
        "id": "ZC56qYh6hAws",
        "colab_type": "code",
        "colab": {}
      },
      "source": [
        "with open('/content/drive/My Drive/colab_data/salary_tabnetL_data/experience2id.pickle', 'wb') as handle:\n",
        "    pickle.dump(experience2id, handle, protocol=pickle.HIGHEST_PROTOCOL)\n",
        "with open('/content/drive/My Drive/colab_data/salary_tabnetL_data/schedule2id.pickle', 'wb') as handle:\n",
        "    pickle.dump(schedule2id, handle, protocol=pickle.HIGHEST_PROTOCOL)\n",
        "with open('/content/drive/My Drive/colab_data/salary_tabnetL_data/employment2id.pickle', 'wb') as handle:\n",
        "    pickle.dump(employment2id, handle, protocol=pickle.HIGHEST_PROTOCOL)\n",
        "with open('/content/drive/My Drive/colab_data/salary_tabnetL_data/city2id.pickle', 'wb') as handle:\n",
        "    pickle.dump(city2id, handle, protocol=pickle.HIGHEST_PROTOCOL)"
      ],
      "execution_count": null,
      "outputs": []
    },
    {
      "cell_type": "markdown",
      "metadata": {
        "id": "ZfFPSWfPhbF7",
        "colab_type": "text"
      },
      "source": [
        "Теперь преобразуем все признаки нашего датасета в индексы. И заодно сохраним отдельно нашу целевую метку - `salary_from`."
      ]
    },
    {
      "cell_type": "code",
      "metadata": {
        "id": "r0SYKt9bg6LO",
        "colab_type": "code",
        "colab": {
          "base_uri": "https://localhost:8080/",
          "height": 51
        },
        "outputId": "73036ce8-d82b-4ba4-b20c-c309858d84d2"
      },
      "source": [
        "%%time\n",
        "experience_label = []\n",
        "schedule_label = []\n",
        "employment_label = []\n",
        "city_label = []\n",
        "salary_from\t= []\n",
        "\n",
        "for index in df.index:\n",
        "    experience_label.append(experience2id[df.experience.iloc[index]])\n",
        "    schedule_label.append(schedule2id[df.schedule.iloc[index]])\n",
        "    employment_label.append(employment2id[df.employment.iloc[index]])\n",
        "    city_label.append(city2id[df.area_name.iloc[index]])\n",
        "    salary_from.append(df.salary_from.iloc[index])"
      ],
      "execution_count": null,
      "outputs": [
        {
          "output_type": "stream",
          "text": [
            "CPU times: user 1min 57s, sys: 71.2 ms, total: 1min 57s\n",
            "Wall time: 1min 57s\n"
          ],
          "name": "stdout"
        }
      ]
    },
    {
      "cell_type": "markdown",
      "metadata": {
        "id": "GxfmCv4digTL",
        "colab_type": "text"
      },
      "source": [
        "Стандартизируем нашу целевую метку для получения более качественного результата."
      ]
    },
    {
      "cell_type": "code",
      "metadata": {
        "id": "wCQG2cAvhwVF",
        "colab_type": "code",
        "colab": {}
      },
      "source": [
        "salary_from = np.array(salary_from)\n",
        "salary_from_scaled = preprocessing.scale(salary_from)"
      ],
      "execution_count": null,
      "outputs": []
    },
    {
      "cell_type": "markdown",
      "metadata": {
        "id": "9FE9hw7Diw4k",
        "colab_type": "text"
      },
      "source": [
        "Пример стандартизированного и обычного значения зарплаты:"
      ]
    },
    {
      "cell_type": "code",
      "metadata": {
        "id": "YNSG3NIwh605",
        "colab_type": "code",
        "colab": {
          "base_uri": "https://localhost:8080/",
          "height": 34
        },
        "outputId": "2479302b-76ca-4610-d595-ee88a156f635"
      },
      "source": [
        "salary_from_scaled[22], salary_from[22]"
      ],
      "execution_count": null,
      "outputs": [
        {
          "output_type": "execute_result",
          "data": {
            "text/plain": [
              "(-0.8137864340371029, 20000.0)"
            ]
          },
          "metadata": {
            "tags": []
          },
          "execution_count": 40
        }
      ]
    },
    {
      "cell_type": "markdown",
      "metadata": {
        "id": "wdjYJ07bi8Bn",
        "colab_type": "text"
      },
      "source": [
        "Сохраним стандартизированное значение таргета, мы его будем подавать модели в ходе обучения, и обычное значение - оно нам понадобится для того, чтобы из стандартизированного предикта получить \"человекочитаемую\" цифру."
      ]
    },
    {
      "cell_type": "code",
      "metadata": {
        "id": "ScDEoJ-Xi1J2",
        "colab_type": "code",
        "colab": {}
      },
      "source": [
        "np.save('/content/drive/My Drive/colab_data/salary_tabnetL_data/salary_scaled.npy', salary_from_scaled)\n",
        "np.save('/content/drive/My Drive/colab_data/salary_tabnetL_data/salary_orig.npy', salary_from)"
      ],
      "execution_count": null,
      "outputs": []
    },
    {
      "cell_type": "markdown",
      "metadata": {
        "id": "BIU71qPPjlM4",
        "colab_type": "text"
      },
      "source": [
        "Преобразуем наши признаки из типа `list` в тип `numpy.array`, приведём их к нужной размерности и сохраним."
      ]
    },
    {
      "cell_type": "code",
      "metadata": {
        "id": "r4eT6bpkjkNn",
        "colab_type": "code",
        "colab": {}
      },
      "source": [
        "experience_label = np.array(experience_label)\n",
        "schedule_label = np.array(schedule_label)\n",
        "employment_label = np.array(employment_label)\n",
        "city_label = np.array(city_label)"
      ],
      "execution_count": null,
      "outputs": []
    },
    {
      "cell_type": "code",
      "metadata": {
        "id": "sKDj4jf5jabe",
        "colab_type": "code",
        "colab": {}
      },
      "source": [
        "experience_label = np.reshape(experience_label, (experience_label.shape[0], 1))\n",
        "schedule_label = np.reshape(schedule_label, (schedule_label.shape[0], 1))\n",
        "employment_label = np.reshape(employment_label, (employment_label.shape[0], 1))\n",
        "city_label = np.reshape(city_label, (city_label.shape[0], 1))"
      ],
      "execution_count": null,
      "outputs": []
    },
    {
      "cell_type": "code",
      "metadata": {
        "id": "bdoY2BbIkCe2",
        "colab_type": "code",
        "colab": {}
      },
      "source": [
        "np.save('/content/drive/My Drive/colab_data/salary_tabnetL_data/experience_label.npy', experience_label)\n",
        "np.save('/content/drive/My Drive/colab_data/salary_tabnetL_data/schedule_label.npy', schedule_label)\n",
        "np.save('/content/drive/My Drive/colab_data/salary_tabnetL_data/employment_label.npy', employment_label)\n",
        "np.save('/content/drive/My Drive/colab_data/salary_tabnetL_data/city_label.npy', city_label)"
      ],
      "execution_count": null,
      "outputs": []
    },
    {
      "cell_type": "markdown",
      "metadata": {
        "id": "hDQyGPKukgLi",
        "colab_type": "text"
      },
      "source": [
        "Весь датасет подготовлен. Теперь можно приступить к обучению модели."
      ]
    }
  ]
}