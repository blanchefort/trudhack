{
 "cells": [
  {
   "cell_type": "markdown",
   "execution_count": null,
   "metadata": {},
   "source": [
    "# Обучение модели TabNetL"
   ]
  },
  {
   "cell_type": "code",
   "execution_count": 1,
   "metadata": {
    "_cell_guid": "b1076dfc-b9ad-4769-8c92-a6c4dae69d19",
    "_uuid": "8f2839f25d086af736a60e9eeb907d3b93b6e0e5",
    "collapsed": true
   },
   "outputs": [
    {
     "name": "stdout",
     "output_type": "stream",
     "text": [
      "Collecting pytorch-tabnet\r\n",
      "  Downloading pytorch_tabnet-1.2.0-py3-none-any.whl (21 kB)\r\n",
      "Collecting neptune-client\r\n",
      "  Downloading neptune-client-0.4.117.tar.gz (90 kB)\r\n",
      "\u001b[K     |████████████████████████████████| 90 kB 2.8 MB/s \r\n",
      "\u001b[?25hRequirement already satisfied: tqdm<5.0,>=4.36 in /opt/conda/lib/python3.7/site-packages (from pytorch-tabnet) (4.45.0)\r\n",
      "Requirement already satisfied: scipy>1.4 in /opt/conda/lib/python3.7/site-packages (from pytorch-tabnet) (1.4.1)\r\n",
      "Requirement already satisfied: torch<2.0,>=1.2 in /opt/conda/lib/python3.7/site-packages (from pytorch-tabnet) (1.5.1)\r\n",
      "Requirement already satisfied: scikit_learn>0.21 in /opt/conda/lib/python3.7/site-packages (from pytorch-tabnet) (0.23.1)\r\n",
      "Requirement already satisfied: numpy<2.0,>=1.17 in /opt/conda/lib/python3.7/site-packages (from pytorch-tabnet) (1.18.5)\r\n",
      "Collecting bravado\r\n",
      "  Downloading bravado-10.6.2-py2.py3-none-any.whl (37 kB)\r\n",
      "Requirement already satisfied: click>=7.0 in /opt/conda/lib/python3.7/site-packages (from neptune-client) (7.1.1)\r\n",
      "Requirement already satisfied: future>=0.17.1 in /opt/conda/lib/python3.7/site-packages (from neptune-client) (0.18.2)\r\n",
      "Collecting py3nvml\r\n",
      "  Downloading py3nvml-0.2.6-py3-none-any.whl (55 kB)\r\n",
      "\u001b[K     |████████████████████████████████| 55 kB 2.7 MB/s \r\n",
      "\u001b[?25hRequirement already satisfied: oauthlib>=2.1.0 in /opt/conda/lib/python3.7/site-packages (from neptune-client) (3.0.1)\r\n",
      "Requirement already satisfied: pandas in /opt/conda/lib/python3.7/site-packages (from neptune-client) (1.0.3)\r\n",
      "Requirement already satisfied: Pillow>=1.1.6 in /opt/conda/lib/python3.7/site-packages (from neptune-client) (5.4.1)\r\n",
      "Requirement already satisfied: PyJWT in /opt/conda/lib/python3.7/site-packages (from neptune-client) (1.7.1)\r\n",
      "Requirement already satisfied: requests>=2.20.0 in /opt/conda/lib/python3.7/site-packages (from neptune-client) (2.23.0)\r\n",
      "Requirement already satisfied: requests-oauthlib>=1.0.0 in /opt/conda/lib/python3.7/site-packages (from neptune-client) (1.2.0)\r\n",
      "Requirement already satisfied: six>=1.12.0 in /opt/conda/lib/python3.7/site-packages (from neptune-client) (1.14.0)\r\n",
      "Requirement already satisfied: websocket-client>=0.35.0 in /opt/conda/lib/python3.7/site-packages (from neptune-client) (0.57.0)\r\n",
      "Requirement already satisfied: GitPython>=2.0.8 in /opt/conda/lib/python3.7/site-packages (from neptune-client) (3.1.1)\r\n",
      "Requirement already satisfied: packaging in /opt/conda/lib/python3.7/site-packages (from neptune-client) (20.1)\r\n",
      "Requirement already satisfied: threadpoolctl>=2.0.0 in /opt/conda/lib/python3.7/site-packages (from scikit_learn>0.21->pytorch-tabnet) (2.1.0)\r\n",
      "Requirement already satisfied: joblib>=0.11 in /opt/conda/lib/python3.7/site-packages (from scikit_learn>0.21->pytorch-tabnet) (0.14.1)\r\n",
      "Requirement already satisfied: simplejson in /opt/conda/lib/python3.7/site-packages (from bravado->neptune-client) (3.17.0)\r\n",
      "Requirement already satisfied: typing-extensions in /opt/conda/lib/python3.7/site-packages (from bravado->neptune-client) (3.7.4.1)\r\n",
      "Collecting bravado-core>=5.16.1\r\n",
      "  Downloading bravado_core-5.17.0-py2.py3-none-any.whl (67 kB)\r\n",
      "\u001b[K     |████████████████████████████████| 67 kB 3.0 MB/s \r\n",
      "\u001b[?25hCollecting monotonic\r\n",
      "  Downloading monotonic-1.5-py2.py3-none-any.whl (5.3 kB)\r\n",
      "Requirement already satisfied: python-dateutil in /opt/conda/lib/python3.7/site-packages (from bravado->neptune-client) (2.8.1)\r\n",
      "Requirement already satisfied: pyyaml in /opt/conda/lib/python3.7/site-packages (from bravado->neptune-client) (5.3.1)\r\n",
      "Collecting msgpack-python\r\n",
      "  Downloading msgpack-python-0.5.6.tar.gz (138 kB)\r\n",
      "\u001b[K     |████████████████████████████████| 138 kB 10.6 MB/s \r\n",
      "\u001b[?25hCollecting xmltodict\r\n",
      "  Downloading xmltodict-0.12.0-py2.py3-none-any.whl (9.2 kB)\r\n",
      "Requirement already satisfied: pytz>=2017.2 in /opt/conda/lib/python3.7/site-packages (from pandas->neptune-client) (2019.3)\r\n",
      "Requirement already satisfied: urllib3!=1.25.0,!=1.25.1,<1.26,>=1.21.1 in /opt/conda/lib/python3.7/site-packages (from requests>=2.20.0->neptune-client) (1.24.3)\r\n",
      "Requirement already satisfied: certifi>=2017.4.17 in /opt/conda/lib/python3.7/site-packages (from requests>=2.20.0->neptune-client) (2020.6.20)\r\n",
      "Requirement already satisfied: idna<3,>=2.5 in /opt/conda/lib/python3.7/site-packages (from requests>=2.20.0->neptune-client) (2.9)\r\n",
      "Requirement already satisfied: chardet<4,>=3.0.2 in /opt/conda/lib/python3.7/site-packages (from requests>=2.20.0->neptune-client) (3.0.4)\r\n",
      "Requirement already satisfied: gitdb<5,>=4.0.1 in /opt/conda/lib/python3.7/site-packages (from GitPython>=2.0.8->neptune-client) (4.0.4)\r\n",
      "Requirement already satisfied: pyparsing>=2.0.2 in /opt/conda/lib/python3.7/site-packages (from packaging->neptune-client) (2.4.7)\r\n",
      "Collecting swagger-spec-validator>=2.0.1\r\n",
      "  Downloading swagger_spec_validator-2.7.3-py2.py3-none-any.whl (27 kB)\r\n",
      "Requirement already satisfied: msgpack>=0.5.2 in /opt/conda/lib/python3.7/site-packages (from bravado-core>=5.16.1->bravado->neptune-client) (1.0.0)\r\n",
      "Requirement already satisfied: jsonschema[format]>=2.5.1 in /opt/conda/lib/python3.7/site-packages (from bravado-core>=5.16.1->bravado->neptune-client) (3.2.0)\r\n",
      "Collecting jsonref\r\n",
      "  Downloading jsonref-0.2-py3-none-any.whl (9.3 kB)\r\n",
      "Requirement already satisfied: smmap<4,>=3.0.1 in /opt/conda/lib/python3.7/site-packages (from gitdb<5,>=4.0.1->GitPython>=2.0.8->neptune-client) (3.0.2)\r\n",
      "Requirement already satisfied: importlib-metadata; python_version < \"3.8\" in /opt/conda/lib/python3.7/site-packages (from jsonschema[format]>=2.5.1->bravado-core>=5.16.1->bravado->neptune-client) (1.6.0)\r\n",
      "Requirement already satisfied: setuptools in /opt/conda/lib/python3.7/site-packages (from jsonschema[format]>=2.5.1->bravado-core>=5.16.1->bravado->neptune-client) (46.1.3.post20200325)\r\n",
      "Requirement already satisfied: pyrsistent>=0.14.0 in /opt/conda/lib/python3.7/site-packages (from jsonschema[format]>=2.5.1->bravado-core>=5.16.1->bravado->neptune-client) (0.16.0)\r\n",
      "Requirement already satisfied: attrs>=17.4.0 in /opt/conda/lib/python3.7/site-packages (from jsonschema[format]>=2.5.1->bravado-core>=5.16.1->bravado->neptune-client) (19.3.0)\r\n",
      "Collecting jsonpointer>1.13; extra == \"format\"\r\n",
      "  Downloading jsonpointer-2.0-py2.py3-none-any.whl (7.6 kB)\r\n",
      "Collecting webcolors; extra == \"format\"\r\n",
      "  Downloading webcolors-1.11.1-py3-none-any.whl (9.9 kB)\r\n",
      "Collecting rfc3987; extra == \"format\"\r\n",
      "  Downloading rfc3987-1.3.8-py2.py3-none-any.whl (13 kB)\r\n",
      "Collecting strict-rfc3339; extra == \"format\"\r\n",
      "  Downloading strict-rfc3339-0.7.tar.gz (17 kB)\r\n",
      "Requirement already satisfied: zipp>=0.5 in /opt/conda/lib/python3.7/site-packages (from importlib-metadata; python_version < \"3.8\"->jsonschema[format]>=2.5.1->bravado-core>=5.16.1->bravado->neptune-client) (3.1.0)\r\n",
      "Building wheels for collected packages: neptune-client, msgpack-python, strict-rfc3339\r\n",
      "  Building wheel for neptune-client (setup.py) ... \u001b[?25l-\b \b\\\b \b|\b \bdone\r\n",
      "\u001b[?25h  Created wheel for neptune-client: filename=neptune_client-0.4.117-py2.py3-none-any.whl size=149569 sha256=a289026ac0d5921266fdda6f8dca14d124ab4299a9aedca5adc35d4c4f07411d\r\n",
      "  Stored in directory: /root/.cache/pip/wheels/c2/ed/91/3ee4201218bc6087407bd61d751452c228bda95f41867ec036\r\n",
      "  Building wheel for msgpack-python (setup.py) ... \u001b[?25l-\b \b\\\b \b|\b \b/\b \b-\b \b\\\b \b|\b \b/\b \b-\b \bdone\r\n",
      "\u001b[?25h  Created wheel for msgpack-python: filename=msgpack_python-0.5.6-cp37-cp37m-linux_x86_64.whl size=302585 sha256=9a5dc0a2a1e9f87bb2537f9410f09800f079f3e0d52642db48c3a197688f2ed3\r\n",
      "  Stored in directory: /root/.cache/pip/wheels/f8/6c/02/92ebc97f3b99ad5bfc675be2c513f9cb3504fdbe338314f377\r\n",
      "  Building wheel for strict-rfc3339 (setup.py) ... \u001b[?25l-\b \b\\\b \bdone\r\n",
      "\u001b[?25h  Created wheel for strict-rfc3339: filename=strict_rfc3339-0.7-py3-none-any.whl size=18119 sha256=b21cb5ff749399bdf0bc3e91272cccecbed31a1e62117d84fcb0edc40704e256\r\n",
      "  Stored in directory: /root/.cache/pip/wheels/f3/1d/9f/2a74caecb81b8beb9a4fbe1754203d4b7cf42ef5d39e0d2311\r\n",
      "Successfully built neptune-client msgpack-python strict-rfc3339\r\n",
      "Installing collected packages: pytorch-tabnet, swagger-spec-validator, jsonref, bravado-core, monotonic, msgpack-python, bravado, xmltodict, py3nvml, neptune-client, jsonpointer, webcolors, rfc3987, strict-rfc3339\r\n",
      "Successfully installed bravado-10.6.2 bravado-core-5.17.0 jsonpointer-2.0 jsonref-0.2 monotonic-1.5 msgpack-python-0.5.6 neptune-client-0.4.117 py3nvml-0.2.6 pytorch-tabnet-1.2.0 rfc3987-1.3.8 strict-rfc3339-0.7 swagger-spec-validator-2.7.3 webcolors-1.11.1 xmltodict-0.12.0\r\n"
     ]
    }
   ],
   "source": [
    "!pip install pytorch-tabnet neptune-client"
   ]
  },
  {
   "cell_type": "code",
   "execution_count": 2,
   "metadata": {
    "_cell_guid": "79c7e3d0-c299-4dcb-8224-4455121ee9b0",
    "_uuid": "d629ff2d2480ee46fbb7e2d37f6b5fab8052498a"
   },
   "outputs": [],
   "source": [
    "import os\n",
    "import numpy as np\n",
    "import torch\n",
    "import random\n",
    "import pickle\n",
    "\n",
    "from sklearn.model_selection import train_test_split\n",
    "from pytorch_tabnet.tab_model import TabNetRegressor\n",
    "import neptune"
   ]
  },
  {
   "cell_type": "code",
   "execution_count": 3,
   "metadata": {},
   "outputs": [
    {
     "data": {
      "text/plain": [
       "<torch._C.Generator at 0x7f9568065090>"
      ]
     },
     "execution_count": 3,
     "metadata": {},
     "output_type": "execute_result"
    }
   ],
   "source": [
    "seed = 42\n",
    "os.environ['PYTHONHASHSEED'] = str(seed)\n",
    "random.seed(seed)\n",
    "np.random.seed(seed)\n",
    "torch.manual_seed(seed)"
   ]
  },
  {
   "cell_type": "code",
   "execution_count": 4,
   "metadata": {},
   "outputs": [
    {
     "data": {
      "text/plain": [
       "['experience2id.pickle',\n",
       " 'names.npy',\n",
       " 'employment_label.npy',\n",
       " 'schedule_label.npy',\n",
       " 'city2id.pickle',\n",
       " 'salary_scaled.npy',\n",
       " 'employment2id.pickle',\n",
       " 'salary_orig.npy',\n",
       " 'schedule2id.pickle',\n",
       " 'city_label.npy',\n",
       " 'experience_label.npy']"
      ]
     },
     "execution_count": 4,
     "metadata": {},
     "output_type": "execute_result"
    }
   ],
   "source": [
    "os.listdir('../input/')"
   ]
  },
  {
   "cell_type": "markdown",
   "execution_count": null,
   "metadata": {},
   "source": [
    "Загрузем предобработанные данные.\n",
    "\n",
    "Объединим данные в единый массив и разобъём всё на тестовую и валидационную выборки."
   ]
  },
  {
   "cell_type": "code",
   "execution_count": 5,
   "metadata": {},
   "outputs": [],
   "source": [
    "salary = np.load('../input/salary_scaled.npy')"
   ]
  },
  {
   "cell_type": "code",
   "execution_count": 6,
   "metadata": {},
   "outputs": [],
   "source": [
    "salary = salary.reshape(-1, 1)"
   ]
  },
  {
   "cell_type": "markdown",
   "execution_count": null,
   "metadata": {},
   "source": [
    "Объединим данные в единый массив и разобъём всё на тестовую и валидационную выборки.[](http://)"
   ]
  },
  {
   "cell_type": "code",
   "execution_count": 7,
   "metadata": {},
   "outputs": [],
   "source": [
    "X = np.concatenate((\n",
    "    np.load('../input/names.npy'),\n",
    "    np.load('../input/experience_label.npy'),\n",
    "    np.load('../input/schedule_label.npy'),\n",
    "    np.load('../input/employment_label.npy'),\n",
    "    np.load('../input/city_label.npy')\n",
    "), axis=1)"
   ]
  },
  {
   "cell_type": "code",
   "execution_count": 8,
   "metadata": {},
   "outputs": [
    {
     "data": {
      "text/plain": [
       "1098592.0"
      ]
     },
     "execution_count": 8,
     "metadata": {},
     "output_type": "execute_result"
    }
   ],
   "source": [
    "len(X) * 0.8"
   ]
  },
  {
   "cell_type": "markdown",
   "execution_count": null,
   "metadata": {},
   "source": [
    "Зададим количество параметров для того, чтобы наша модель смогла создать эмбеддинги"
   ]
  },
  {
   "cell_type": "code",
   "execution_count": 9,
   "metadata": {},
   "outputs": [],
   "source": [
    "with open('../input/experience2id.pickle', 'rb') as handle:\n",
    "    experience2id = pickle.load(handle)\n",
    "with open('../input/schedule2id.pickle', 'rb') as handle:\n",
    "    schedule2id = pickle.load(handle)\n",
    "with open('../input/employment2id.pickle', 'rb') as handle:\n",
    "    employment2id = pickle.load(handle)\n",
    "with open('../input/city2id.pickle', 'rb') as handle:\n",
    "    city2id = pickle.load(handle)"
   ]
  },
  {
   "cell_type": "code",
   "execution_count": 10,
   "metadata": {},
   "outputs": [],
   "source": [
    "cat_dims = [len(experience2id), len(schedule2id), len(employment2id), len(city2id),]"
   ]
  },
  {
   "cell_type": "markdown",
   "execution_count": null,
   "metadata": {},
   "source": [
    "Инициализируем Нептун для отслеживания состояния системы и сохранения результата\n"
   ]
  },
  {
   "cell_type": "code",
   "execution_count": 11,
   "metadata": {},
   "outputs": [
    {
     "name": "stdout",
     "output_type": "stream",
     "text": [
      "https://ui.neptune.ai/blanchefort/salary/e/SAL-36\n"
     ]
    },
    {
     "data": {
      "text/plain": [
       "Experiment(SAL-36)"
      ]
     },
     "execution_count": 11,
     "metadata": {},
     "output_type": "execute_result"
    }
   ],
   "source": [
    "PARAMS = {\n",
    "    'description': 'TabNetL'\n",
    "}\n",
    "neptune.init('blanchefort/salary', api_token='eyJhcGlfYWRkcmVzcyI6Imh0dHBzOi8vdWkubmVwdHVuZS5haSIsImFwaV91cmwiOiJodHRwczovL3VpLm5lcHR1bmUuYWkiLCJhcGlfa2V5IjoiZDIxYzYxODctMWU1Zi00ZDIzLWJkYjEtYmNlZDQxMTUxZjA4In0=')\n",
    "neptune.create_experiment(name='SalaryTabNetL2',params=PARAMS)"
   ]
  },
  {
   "cell_type": "markdown",
   "execution_count": null,
   "metadata": {},
   "source": [
    "Инициализируем модель"
   ]
  },
  {
   "cell_type": "code",
   "execution_count": 12,
   "metadata": {},
   "outputs": [
    {
     "name": "stdout",
     "output_type": "stream",
     "text": [
      "Device used : cuda\n"
     ]
    }
   ],
   "source": [
    "clf = TabNetRegressor(\n",
    "    verbose=10,\n",
    "    optimizer_fn=torch.optim.AdamW,\n",
    "    optimizer_params=dict(lr=2e-2),\n",
    "    scheduler_params = {\"gamma\": 0.95,\n",
    "                     \"step_size\": 20},\n",
    "    scheduler_fn=torch.optim.lr_scheduler.StepLR, epsilon=1e-15,\n",
    "    seed=seed,\n",
    "    clip_value=2.,\n",
    "    cat_idxs=[768, 769, 770, 771],\n",
    "    cat_dims=cat_dims,\n",
    "    cat_emb_dim=[1, 1, 1, 100],\n",
    "\n",
    "    n_d=64,\n",
    "    n_a=64,\n",
    "    n_steps=5,\n",
    "    gamma=1.5,\n",
    "    n_independent=2,\n",
    "    n_shared=2,\n",
    "    lambda_sparse=1e-4,\n",
    "    momentum=0.3,\n",
    "    \n",
    ")"
   ]
  },
  {
   "cell_type": "markdown",
   "execution_count": null,
   "metadata": {},
   "source": [
    "Запускаем обучение"
   ]
  },
  {
   "cell_type": "code",
   "execution_count": 13,
   "metadata": {},
   "outputs": [
    {
     "name": "stdout",
     "output_type": "stream",
     "text": [
      "Will train until validation stopping metric hasn't improved in 200 rounds.\n",
      "---------------------------------------\n",
      "| EPOCH |  train  |   valid  | total time (s)\n",
      "| 10    | -0.85917 |  -0.90205 |   676.4     \n",
      "| 20    | -0.83118 |  -0.88598 |   1347.9    \n",
      "| 30    | -0.83381 |  -0.89212 |   2020.0    \n",
      "| 40    | -0.82988 |  -0.89940 |   2687.2    \n",
      "| 50    | -0.73502 |  -0.79886 |   3354.2    \n",
      "| 60    | -0.71815 |  -0.75500 |   4021.5    \n",
      "| 70    | -0.71617 |  -0.76401 |   4685.4    \n",
      "| 80    | -0.71446 |  -0.76072 |   5347.0    \n",
      "| 90    | -0.71359 |  -0.75997 |   6010.1    \n",
      "| 100   | -0.70756 |  -0.75810 |   6677.7    \n",
      "| 110   | -0.70444 |  -0.76089 |   7354.2    \n",
      "| 120   | -0.70139 |  -0.75669 |   8032.8    \n",
      "| 130   | -0.69840 |  -0.75704 |   8711.0    \n",
      "| 140   | -0.69179 |  -0.75711 |   9383.4    \n",
      "| 150   | -0.68460 |  -0.76974 |   10059.1   \n",
      "| 160   | -0.67796 |  -0.75627 |   10735.0   \n",
      "| 170   | -0.66632 |  -0.76719 |   11411.3   \n",
      "| 180   | -0.65909 |  -0.76401 |   12090.4   \n",
      "| 190   | -0.64954 |  -0.77044 |   12774.1   \n",
      "| 200   | -0.65237 |  -0.76479 |   13454.1   \n",
      "| 210   | -0.63629 |  -0.77945 |   14130.4   \n",
      "| 220   | -0.62994 |  -0.78235 |   14812.8   \n",
      "| 230   | -0.62362 |  -0.77648 |   15496.9   \n",
      "| 240   | -0.61598 |  -0.78107 |   16183.2   \n",
      "| 250   | -0.61121 |  -0.77716 |   16868.6   \n",
      "| 260   | -0.60571 |  -0.78588 |   17546.4   \n",
      "| 270   | -0.59909 |  -0.78826 |   18230.0   \n",
      "| 280   | -0.59598 |  -0.78831 |   18911.5   \n",
      "| 290   | -0.59236 |  -0.79258 |   19590.8   \n",
      "| 300   | -0.58754 |  -0.79787 |   20270.7   \n",
      "| 310   | -0.58427 |  -0.78969 |   20954.0   \n",
      "Early stopping occured at epoch 311\n",
      "Training done in 21022.182 seconds.\n",
      "---------------------------------------\n"
     ]
    }
   ],
   "source": [
    "clf.fit(\n",
    "    X[:1098592],\n",
    "    salary[:1098592],\n",
    "    X[1098592:],\n",
    "    salary[1098592:],\n",
    "    max_epochs=3000,\n",
    "    loss_fn=torch.nn.L1Loss(),\n",
    "    batch_size=16384,\n",
    "    virtual_batch_size=256,\n",
    "    patience=200,\n",
    "    drop_last=False,\n",
    "    )"
   ]
  },
  {
   "cell_type": "markdown",
   "execution_count": null,
   "metadata": {},
   "source": [
    "Сохраним полученный результат для дальнейшего использования"
   ]
  },
  {
   "cell_type": "code",
   "execution_count": 14,
   "metadata": {},
   "outputs": [],
   "source": [
    "with open('SalaryTabnet_L.pt', 'wb') as model_file:\n",
    "    torch.save(clf, model_file)\n",
    "neptune.log_artifact('SalaryTabnet_L.pt', 'SalaryTabnetL_GPU.pt')\n",
    "\n",
    "device = torch.device('cpu')\n",
    "clf.network.to(device)\n",
    "with open('SalaryTabnet_L.pt', 'wb') as model_file:\n",
    "    torch.save(clf, model_file)\n",
    "neptune.log_artifact('SalaryTabnet_L.pt', 'SalaryTabnetL_CPU.pt')"
   ]
  }
 ],
 "metadata": {
  "kernelspec": {
   "display_name": "Python 3",
   "language": "python",
   "name": "python3"
  },
  "language_info": {
   "codemirror_mode": {
    "name": "ipython",
    "version": 3
   },
   "file_extension": ".py",
   "mimetype": "text/x-python",
   "name": "python",
   "nbconvert_exporter": "python",
   "pygments_lexer": "ipython3",
   "version": "3.7.6"
  }
 },
 "nbformat": 4,
 "nbformat_minor": 4
}
